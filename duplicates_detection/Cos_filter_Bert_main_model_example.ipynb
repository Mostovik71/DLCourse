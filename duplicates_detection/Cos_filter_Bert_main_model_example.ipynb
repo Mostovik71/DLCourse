{
  "nbformat": 4,
  "nbformat_minor": 0,
  "metadata": {
    "colab": {
      "provenance": []
    },
    "kernelspec": {
      "name": "python3",
      "display_name": "Python 3"
    },
    "language_info": {
      "name": "python"
    },
    "widgets": {
      "application/vnd.jupyter.widget-state+json": {
        "eec8323ea55346c3b2a53c6912404d09": {
          "model_module": "@jupyter-widgets/controls",
          "model_name": "HBoxModel",
          "model_module_version": "1.5.0",
          "state": {
            "_dom_classes": [],
            "_model_module": "@jupyter-widgets/controls",
            "_model_module_version": "1.5.0",
            "_model_name": "HBoxModel",
            "_view_count": null,
            "_view_module": "@jupyter-widgets/controls",
            "_view_module_version": "1.5.0",
            "_view_name": "HBoxView",
            "box_style": "",
            "children": [
              "IPY_MODEL_007cb2a11a304dac89566200f0645bcd",
              "IPY_MODEL_314318cd98a1491cbe319ec78fd8048d",
              "IPY_MODEL_bc7cf25c92604e17aa94391e07980852"
            ],
            "layout": "IPY_MODEL_ce02f7522bb8465fbbd13b70a251c886"
          }
        },
        "007cb2a11a304dac89566200f0645bcd": {
          "model_module": "@jupyter-widgets/controls",
          "model_name": "HTMLModel",
          "model_module_version": "1.5.0",
          "state": {
            "_dom_classes": [],
            "_model_module": "@jupyter-widgets/controls",
            "_model_module_version": "1.5.0",
            "_model_name": "HTMLModel",
            "_view_count": null,
            "_view_module": "@jupyter-widgets/controls",
            "_view_module_version": "1.5.0",
            "_view_name": "HTMLView",
            "description": "",
            "description_tooltip": null,
            "layout": "IPY_MODEL_2d7a2e26dec847b29569c2d582675abe",
            "placeholder": "​",
            "style": "IPY_MODEL_da673bc0935243319077dcbb211941a8",
            "value": ""
          }
        },
        "314318cd98a1491cbe319ec78fd8048d": {
          "model_module": "@jupyter-widgets/controls",
          "model_name": "FloatProgressModel",
          "model_module_version": "1.5.0",
          "state": {
            "_dom_classes": [],
            "_model_module": "@jupyter-widgets/controls",
            "_model_module_version": "1.5.0",
            "_model_name": "FloatProgressModel",
            "_view_count": null,
            "_view_module": "@jupyter-widgets/controls",
            "_view_module_version": "1.5.0",
            "_view_name": "ProgressView",
            "bar_style": "success",
            "description": "",
            "description_tooltip": null,
            "layout": "IPY_MODEL_39c0308d10ea48398def5fa960f40dca",
            "max": 1,
            "min": 0,
            "orientation": "horizontal",
            "style": "IPY_MODEL_8486826152854f719eedface7a6c7f66",
            "value": 0
          }
        },
        "bc7cf25c92604e17aa94391e07980852": {
          "model_module": "@jupyter-widgets/controls",
          "model_name": "HTMLModel",
          "model_module_version": "1.5.0",
          "state": {
            "_dom_classes": [],
            "_model_module": "@jupyter-widgets/controls",
            "_model_module_version": "1.5.0",
            "_model_name": "HTMLModel",
            "_view_count": null,
            "_view_module": "@jupyter-widgets/controls",
            "_view_module_version": "1.5.0",
            "_view_name": "HTMLView",
            "description": "",
            "description_tooltip": null,
            "layout": "IPY_MODEL_c62ccf9f8a104eab9daf5b6518a57662",
            "placeholder": "​",
            "style": "IPY_MODEL_e3bec123e55e4567823cd3159dff57a6",
            "value": " 0/0 [00:00&lt;?, ?it/s]"
          }
        },
        "ce02f7522bb8465fbbd13b70a251c886": {
          "model_module": "@jupyter-widgets/base",
          "model_name": "LayoutModel",
          "model_module_version": "1.2.0",
          "state": {
            "_model_module": "@jupyter-widgets/base",
            "_model_module_version": "1.2.0",
            "_model_name": "LayoutModel",
            "_view_count": null,
            "_view_module": "@jupyter-widgets/base",
            "_view_module_version": "1.2.0",
            "_view_name": "LayoutView",
            "align_content": null,
            "align_items": null,
            "align_self": null,
            "border": null,
            "bottom": null,
            "display": null,
            "flex": null,
            "flex_flow": null,
            "grid_area": null,
            "grid_auto_columns": null,
            "grid_auto_flow": null,
            "grid_auto_rows": null,
            "grid_column": null,
            "grid_gap": null,
            "grid_row": null,
            "grid_template_areas": null,
            "grid_template_columns": null,
            "grid_template_rows": null,
            "height": null,
            "justify_content": null,
            "justify_items": null,
            "left": null,
            "margin": null,
            "max_height": null,
            "max_width": null,
            "min_height": null,
            "min_width": null,
            "object_fit": null,
            "object_position": null,
            "order": null,
            "overflow": null,
            "overflow_x": null,
            "overflow_y": null,
            "padding": null,
            "right": null,
            "top": null,
            "visibility": null,
            "width": null
          }
        },
        "2d7a2e26dec847b29569c2d582675abe": {
          "model_module": "@jupyter-widgets/base",
          "model_name": "LayoutModel",
          "model_module_version": "1.2.0",
          "state": {
            "_model_module": "@jupyter-widgets/base",
            "_model_module_version": "1.2.0",
            "_model_name": "LayoutModel",
            "_view_count": null,
            "_view_module": "@jupyter-widgets/base",
            "_view_module_version": "1.2.0",
            "_view_name": "LayoutView",
            "align_content": null,
            "align_items": null,
            "align_self": null,
            "border": null,
            "bottom": null,
            "display": null,
            "flex": null,
            "flex_flow": null,
            "grid_area": null,
            "grid_auto_columns": null,
            "grid_auto_flow": null,
            "grid_auto_rows": null,
            "grid_column": null,
            "grid_gap": null,
            "grid_row": null,
            "grid_template_areas": null,
            "grid_template_columns": null,
            "grid_template_rows": null,
            "height": null,
            "justify_content": null,
            "justify_items": null,
            "left": null,
            "margin": null,
            "max_height": null,
            "max_width": null,
            "min_height": null,
            "min_width": null,
            "object_fit": null,
            "object_position": null,
            "order": null,
            "overflow": null,
            "overflow_x": null,
            "overflow_y": null,
            "padding": null,
            "right": null,
            "top": null,
            "visibility": null,
            "width": null
          }
        },
        "da673bc0935243319077dcbb211941a8": {
          "model_module": "@jupyter-widgets/controls",
          "model_name": "DescriptionStyleModel",
          "model_module_version": "1.5.0",
          "state": {
            "_model_module": "@jupyter-widgets/controls",
            "_model_module_version": "1.5.0",
            "_model_name": "DescriptionStyleModel",
            "_view_count": null,
            "_view_module": "@jupyter-widgets/base",
            "_view_module_version": "1.2.0",
            "_view_name": "StyleView",
            "description_width": ""
          }
        },
        "39c0308d10ea48398def5fa960f40dca": {
          "model_module": "@jupyter-widgets/base",
          "model_name": "LayoutModel",
          "model_module_version": "1.2.0",
          "state": {
            "_model_module": "@jupyter-widgets/base",
            "_model_module_version": "1.2.0",
            "_model_name": "LayoutModel",
            "_view_count": null,
            "_view_module": "@jupyter-widgets/base",
            "_view_module_version": "1.2.0",
            "_view_name": "LayoutView",
            "align_content": null,
            "align_items": null,
            "align_self": null,
            "border": null,
            "bottom": null,
            "display": null,
            "flex": null,
            "flex_flow": null,
            "grid_area": null,
            "grid_auto_columns": null,
            "grid_auto_flow": null,
            "grid_auto_rows": null,
            "grid_column": null,
            "grid_gap": null,
            "grid_row": null,
            "grid_template_areas": null,
            "grid_template_columns": null,
            "grid_template_rows": null,
            "height": null,
            "justify_content": null,
            "justify_items": null,
            "left": null,
            "margin": null,
            "max_height": null,
            "max_width": null,
            "min_height": null,
            "min_width": null,
            "object_fit": null,
            "object_position": null,
            "order": null,
            "overflow": null,
            "overflow_x": null,
            "overflow_y": null,
            "padding": null,
            "right": null,
            "top": null,
            "visibility": null,
            "width": "20px"
          }
        },
        "8486826152854f719eedface7a6c7f66": {
          "model_module": "@jupyter-widgets/controls",
          "model_name": "ProgressStyleModel",
          "model_module_version": "1.5.0",
          "state": {
            "_model_module": "@jupyter-widgets/controls",
            "_model_module_version": "1.5.0",
            "_model_name": "ProgressStyleModel",
            "_view_count": null,
            "_view_module": "@jupyter-widgets/base",
            "_view_module_version": "1.2.0",
            "_view_name": "StyleView",
            "bar_color": null,
            "description_width": ""
          }
        },
        "c62ccf9f8a104eab9daf5b6518a57662": {
          "model_module": "@jupyter-widgets/base",
          "model_name": "LayoutModel",
          "model_module_version": "1.2.0",
          "state": {
            "_model_module": "@jupyter-widgets/base",
            "_model_module_version": "1.2.0",
            "_model_name": "LayoutModel",
            "_view_count": null,
            "_view_module": "@jupyter-widgets/base",
            "_view_module_version": "1.2.0",
            "_view_name": "LayoutView",
            "align_content": null,
            "align_items": null,
            "align_self": null,
            "border": null,
            "bottom": null,
            "display": null,
            "flex": null,
            "flex_flow": null,
            "grid_area": null,
            "grid_auto_columns": null,
            "grid_auto_flow": null,
            "grid_auto_rows": null,
            "grid_column": null,
            "grid_gap": null,
            "grid_row": null,
            "grid_template_areas": null,
            "grid_template_columns": null,
            "grid_template_rows": null,
            "height": null,
            "justify_content": null,
            "justify_items": null,
            "left": null,
            "margin": null,
            "max_height": null,
            "max_width": null,
            "min_height": null,
            "min_width": null,
            "object_fit": null,
            "object_position": null,
            "order": null,
            "overflow": null,
            "overflow_x": null,
            "overflow_y": null,
            "padding": null,
            "right": null,
            "top": null,
            "visibility": null,
            "width": null
          }
        },
        "e3bec123e55e4567823cd3159dff57a6": {
          "model_module": "@jupyter-widgets/controls",
          "model_name": "DescriptionStyleModel",
          "model_module_version": "1.5.0",
          "state": {
            "_model_module": "@jupyter-widgets/controls",
            "_model_module_version": "1.5.0",
            "_model_name": "DescriptionStyleModel",
            "_view_count": null,
            "_view_module": "@jupyter-widgets/base",
            "_view_module_version": "1.2.0",
            "_view_name": "StyleView",
            "description_width": ""
          }
        }
      }
    },
    "accelerator": "GPU"
  },
  "cells": [
    {
      "cell_type": "code",
      "source": [
        "pip install transformers"
      ],
      "metadata": {
        "colab": {
          "base_uri": "https://localhost:8080/"
        },
        "id": "C4PknIoy8CXZ",
        "outputId": "3d89b273-f8dd-4e30-9dee-4086e3f342a9"
      },
      "execution_count": 2,
      "outputs": [
        {
          "output_type": "stream",
          "name": "stdout",
          "text": [
            "Looking in indexes: https://pypi.org/simple, https://us-python.pkg.dev/colab-wheels/public/simple/\n",
            "Requirement already satisfied: transformers in /usr/local/lib/python3.7/dist-packages (4.23.1)\n",
            "Requirement already satisfied: regex!=2019.12.17 in /usr/local/lib/python3.7/dist-packages (from transformers) (2022.6.2)\n",
            "Requirement already satisfied: pyyaml>=5.1 in /usr/local/lib/python3.7/dist-packages (from transformers) (6.0)\n",
            "Requirement already satisfied: requests in /usr/local/lib/python3.7/dist-packages (from transformers) (2.23.0)\n",
            "Requirement already satisfied: tokenizers!=0.11.3,<0.14,>=0.11.1 in /usr/local/lib/python3.7/dist-packages (from transformers) (0.13.1)\n",
            "Requirement already satisfied: importlib-metadata in /usr/local/lib/python3.7/dist-packages (from transformers) (4.13.0)\n",
            "Requirement already satisfied: numpy>=1.17 in /usr/local/lib/python3.7/dist-packages (from transformers) (1.21.6)\n",
            "Requirement already satisfied: packaging>=20.0 in /usr/local/lib/python3.7/dist-packages (from transformers) (21.3)\n",
            "Requirement already satisfied: huggingface-hub<1.0,>=0.10.0 in /usr/local/lib/python3.7/dist-packages (from transformers) (0.10.1)\n",
            "Requirement already satisfied: tqdm>=4.27 in /usr/local/lib/python3.7/dist-packages (from transformers) (4.64.1)\n",
            "Requirement already satisfied: filelock in /usr/local/lib/python3.7/dist-packages (from transformers) (3.8.0)\n",
            "Requirement already satisfied: typing-extensions>=3.7.4.3 in /usr/local/lib/python3.7/dist-packages (from huggingface-hub<1.0,>=0.10.0->transformers) (4.1.1)\n",
            "Requirement already satisfied: pyparsing!=3.0.5,>=2.0.2 in /usr/local/lib/python3.7/dist-packages (from packaging>=20.0->transformers) (3.0.9)\n",
            "Requirement already satisfied: zipp>=0.5 in /usr/local/lib/python3.7/dist-packages (from importlib-metadata->transformers) (3.9.0)\n",
            "Requirement already satisfied: certifi>=2017.4.17 in /usr/local/lib/python3.7/dist-packages (from requests->transformers) (2022.9.24)\n",
            "Requirement already satisfied: idna<3,>=2.5 in /usr/local/lib/python3.7/dist-packages (from requests->transformers) (2.10)\n",
            "Requirement already satisfied: urllib3!=1.25.0,!=1.25.1,<1.26,>=1.21.1 in /usr/local/lib/python3.7/dist-packages (from requests->transformers) (1.24.3)\n",
            "Requirement already satisfied: chardet<4,>=3.0.2 in /usr/local/lib/python3.7/dist-packages (from requests->transformers) (3.0.4)\n"
          ]
        }
      ]
    },
    {
      "cell_type": "code",
      "source": [
        "pip install sentence-transformers"
      ],
      "metadata": {
        "colab": {
          "base_uri": "https://localhost:8080/"
        },
        "id": "rgdR9b-18uVL",
        "outputId": "9bd9ff5f-6242-44c7-d8e3-d889cafbbe47"
      },
      "execution_count": 3,
      "outputs": [
        {
          "output_type": "stream",
          "name": "stdout",
          "text": [
            "Looking in indexes: https://pypi.org/simple, https://us-python.pkg.dev/colab-wheels/public/simple/\n",
            "Requirement already satisfied: sentence-transformers in /usr/local/lib/python3.7/dist-packages (2.2.2)\n",
            "Requirement already satisfied: numpy in /usr/local/lib/python3.7/dist-packages (from sentence-transformers) (1.21.6)\n",
            "Requirement already satisfied: huggingface-hub>=0.4.0 in /usr/local/lib/python3.7/dist-packages (from sentence-transformers) (0.10.1)\n",
            "Requirement already satisfied: transformers<5.0.0,>=4.6.0 in /usr/local/lib/python3.7/dist-packages (from sentence-transformers) (4.23.1)\n",
            "Requirement already satisfied: scipy in /usr/local/lib/python3.7/dist-packages (from sentence-transformers) (1.7.3)\n",
            "Requirement already satisfied: scikit-learn in /usr/local/lib/python3.7/dist-packages (from sentence-transformers) (1.0.2)\n",
            "Requirement already satisfied: torch>=1.6.0 in /usr/local/lib/python3.7/dist-packages (from sentence-transformers) (1.12.1+cu113)\n",
            "Requirement already satisfied: sentencepiece in /usr/local/lib/python3.7/dist-packages (from sentence-transformers) (0.1.97)\n",
            "Requirement already satisfied: tqdm in /usr/local/lib/python3.7/dist-packages (from sentence-transformers) (4.64.1)\n",
            "Requirement already satisfied: torchvision in /usr/local/lib/python3.7/dist-packages (from sentence-transformers) (0.13.1+cu113)\n",
            "Requirement already satisfied: nltk in /usr/local/lib/python3.7/dist-packages (from sentence-transformers) (3.7)\n",
            "Requirement already satisfied: pyyaml>=5.1 in /usr/local/lib/python3.7/dist-packages (from huggingface-hub>=0.4.0->sentence-transformers) (6.0)\n",
            "Requirement already satisfied: importlib-metadata in /usr/local/lib/python3.7/dist-packages (from huggingface-hub>=0.4.0->sentence-transformers) (4.13.0)\n",
            "Requirement already satisfied: typing-extensions>=3.7.4.3 in /usr/local/lib/python3.7/dist-packages (from huggingface-hub>=0.4.0->sentence-transformers) (4.1.1)\n",
            "Requirement already satisfied: filelock in /usr/local/lib/python3.7/dist-packages (from huggingface-hub>=0.4.0->sentence-transformers) (3.8.0)\n",
            "Requirement already satisfied: packaging>=20.9 in /usr/local/lib/python3.7/dist-packages (from huggingface-hub>=0.4.0->sentence-transformers) (21.3)\n",
            "Requirement already satisfied: requests in /usr/local/lib/python3.7/dist-packages (from huggingface-hub>=0.4.0->sentence-transformers) (2.23.0)\n",
            "Requirement already satisfied: pyparsing!=3.0.5,>=2.0.2 in /usr/local/lib/python3.7/dist-packages (from packaging>=20.9->huggingface-hub>=0.4.0->sentence-transformers) (3.0.9)\n",
            "Requirement already satisfied: tokenizers!=0.11.3,<0.14,>=0.11.1 in /usr/local/lib/python3.7/dist-packages (from transformers<5.0.0,>=4.6.0->sentence-transformers) (0.13.1)\n",
            "Requirement already satisfied: regex!=2019.12.17 in /usr/local/lib/python3.7/dist-packages (from transformers<5.0.0,>=4.6.0->sentence-transformers) (2022.6.2)\n",
            "Requirement already satisfied: zipp>=0.5 in /usr/local/lib/python3.7/dist-packages (from importlib-metadata->huggingface-hub>=0.4.0->sentence-transformers) (3.9.0)\n",
            "Requirement already satisfied: joblib in /usr/local/lib/python3.7/dist-packages (from nltk->sentence-transformers) (1.2.0)\n",
            "Requirement already satisfied: click in /usr/local/lib/python3.7/dist-packages (from nltk->sentence-transformers) (7.1.2)\n",
            "Requirement already satisfied: certifi>=2017.4.17 in /usr/local/lib/python3.7/dist-packages (from requests->huggingface-hub>=0.4.0->sentence-transformers) (2022.9.24)\n",
            "Requirement already satisfied: chardet<4,>=3.0.2 in /usr/local/lib/python3.7/dist-packages (from requests->huggingface-hub>=0.4.0->sentence-transformers) (3.0.4)\n",
            "Requirement already satisfied: idna<3,>=2.5 in /usr/local/lib/python3.7/dist-packages (from requests->huggingface-hub>=0.4.0->sentence-transformers) (2.10)\n",
            "Requirement already satisfied: urllib3!=1.25.0,!=1.25.1,<1.26,>=1.21.1 in /usr/local/lib/python3.7/dist-packages (from requests->huggingface-hub>=0.4.0->sentence-transformers) (1.24.3)\n",
            "Requirement already satisfied: threadpoolctl>=2.0.0 in /usr/local/lib/python3.7/dist-packages (from scikit-learn->sentence-transformers) (3.1.0)\n",
            "Requirement already satisfied: pillow!=8.3.*,>=5.3.0 in /usr/local/lib/python3.7/dist-packages (from torchvision->sentence-transformers) (7.1.2)\n"
          ]
        }
      ]
    },
    {
      "cell_type": "code",
      "execution_count": 4,
      "metadata": {
        "id": "IeLN3EDC7TQp",
        "colab": {
          "base_uri": "https://localhost:8080/",
          "height": 104,
          "referenced_widgets": [
            "eec8323ea55346c3b2a53c6912404d09",
            "007cb2a11a304dac89566200f0645bcd",
            "314318cd98a1491cbe319ec78fd8048d",
            "bc7cf25c92604e17aa94391e07980852",
            "ce02f7522bb8465fbbd13b70a251c886",
            "2d7a2e26dec847b29569c2d582675abe",
            "da673bc0935243319077dcbb211941a8",
            "39c0308d10ea48398def5fa960f40dca",
            "8486826152854f719eedface7a6c7f66",
            "c62ccf9f8a104eab9daf5b6518a57662",
            "e3bec123e55e4567823cd3159dff57a6"
          ]
        },
        "outputId": "187aeff9-623a-4668-db1e-556c1cf5dae3"
      },
      "outputs": [
        {
          "output_type": "stream",
          "name": "stderr",
          "text": [
            "The cache for model files in Transformers v4.22.0 has been updated. Migrating your old cache. This is a one-time only operation. You can interrupt this and resume the migration later on by calling `transformers.utils.move_cache()`.\n"
          ]
        },
        {
          "output_type": "stream",
          "name": "stdout",
          "text": [
            "Moving 0 files to the new cache system\n"
          ]
        },
        {
          "output_type": "display_data",
          "data": {
            "text/plain": [
              "0it [00:00, ?it/s]"
            ],
            "application/vnd.jupyter.widget-view+json": {
              "version_major": 2,
              "version_minor": 0,
              "model_id": "eec8323ea55346c3b2a53c6912404d09"
            }
          },
          "metadata": {}
        }
      ],
      "source": [
        "from torch.utils.data import DataLoader, RandomSampler, SequentialSampler, TensorDataset\n",
        "import pandas as pd\n",
        "from tqdm import tqdm\n",
        "\n",
        "from transformers import BertTokenizerFast, BertForSequenceClassification, get_linear_schedule_with_warmup, AdamW\n",
        "from sklearn.model_selection import train_test_split\n",
        "import torch\n",
        "import os\n",
        "import numpy as np\n",
        "import random\n",
        "from sklearn.metrics import accuracy_score\n",
        "import json\n",
        "from sklearn.metrics.pairwise import cosine_similarity\n",
        "\n",
        "from sklearn.feature_extraction.text import CountVectorizer"
      ]
    },
    {
      "cell_type": "code",
      "source": [
        "model = torch.load('/content/drive/MyDrive/models_repeat/model_bert_best.pth', map_location='cpu')\n",
        "raw_model = 'bert-base-uncased'\n",
        "tokenizer = BertTokenizerFast.from_pretrained(raw_model, do_lower_case=True)"
      ],
      "metadata": {
        "id": "X2Hd9jiW7osM"
      },
      "execution_count": 5,
      "outputs": []
    },
    {
      "cell_type": "code",
      "source": [
        "from sentence_transformers import SentenceTransformer, models\n",
        "\n",
        "## Step 1: use an existing language model\n",
        "word_embedding_model = models.Transformer('distilroberta-base')\n",
        "\n",
        "#word_embedding_model = models.Transformer('stsb-roberta-large')\n",
        "## Step 2: use a pool function over the token embeddings\n",
        "pooling_model = models.Pooling(word_embedding_model.get_word_embedding_dimension())\n",
        "\n",
        "## Join steps 1 and 2 using the modules argument\n",
        "model_cos = SentenceTransformer(modules=[word_embedding_model, pooling_model])\n",
        "\n",
        "model_cos.load_state_dict(torch.load(\"/content/drive/MyDrive/models_repeat/model_state_cos_5_64\", map_location=torch.device('cpu')))\n",
        "#model_cos.eval()"
      ],
      "metadata": {
        "colab": {
          "base_uri": "https://localhost:8080/"
        },
        "id": "ZFxJyLk8_z60",
        "outputId": "126ad575-4069-4adb-994e-e1afc79432e6"
      },
      "execution_count": 6,
      "outputs": [
        {
          "output_type": "stream",
          "name": "stderr",
          "text": [
            "Some weights of the model checkpoint at distilroberta-base were not used when initializing RobertaModel: ['lm_head.bias', 'lm_head.layer_norm.bias', 'lm_head.layer_norm.weight', 'lm_head.dense.bias', 'lm_head.dense.weight', 'lm_head.decoder.weight']\n",
            "- This IS expected if you are initializing RobertaModel from the checkpoint of a model trained on another task or with another architecture (e.g. initializing a BertForSequenceClassification model from a BertForPreTraining model).\n",
            "- This IS NOT expected if you are initializing RobertaModel from the checkpoint of a model that you expect to be exactly identical (initializing a BertForSequenceClassification model from a BertForSequenceClassification model).\n"
          ]
        },
        {
          "output_type": "execute_result",
          "data": {
            "text/plain": [
              "<All keys matched successfully>"
            ]
          },
          "metadata": {},
          "execution_count": 6
        }
      ]
    },
    {
      "cell_type": "code",
      "source": [
        "model_cos = torch.load(\"/content/drive/MyDrive/models_repeat/model_cos_5_64\", map_location=torch.device('cpu'))\n",
        "#model_cos.eval()"
      ],
      "metadata": {
        "id": "tuJPDfMI_1TM"
      },
      "execution_count": 7,
      "outputs": []
    },
    {
      "cell_type": "code",
      "source": [
        "def convert_to_dataset(data: pd.DataFrame) -> TensorDataset:\n",
        "    input_ids = []\n",
        "    attention_masks = []\n",
        "    token_type_ids = []\n",
        "    for _, row in tqdm(data.iterrows(), total=data.shape[0]):\n",
        "        encoded_dict = tokenizer.encode_plus(row[\"query\"], row[\"name\"], max_length=300,\n",
        "                                             pad_to_max_length=True,\n",
        "                                             return_attention_mask=True, return_tensors='pt', truncation=True)\n",
        "        input_ids.append(encoded_dict['input_ids'])\n",
        "        token_type_ids.append(encoded_dict[\"token_type_ids\"])\n",
        "        attention_masks.append(encoded_dict['attention_mask'])\n",
        "\n",
        "    input_ids = torch.cat(input_ids, dim=0)\n",
        "    token_type_ids = torch.cat(token_type_ids, dim=0)\n",
        "    attention_masks = torch.cat(attention_masks, dim=0)\n",
        "\n",
        "    input_ids.to(dtype=torch.long)\n",
        "    token_type_ids.to(dtype=torch.long)\n",
        "    attention_masks.to(dtype=torch.long)\n",
        "\n",
        "    return TensorDataset(input_ids, attention_masks, token_type_ids)"
      ],
      "metadata": {
        "id": "Xluk5M2A7pN5"
      },
      "execution_count": 8,
      "outputs": []
    },
    {
      "cell_type": "code",
      "source": [
        "def infer(dataloader, model):\n",
        "    embs = []\n",
        "\n",
        "    for batch in tqdm(dataloader, desc=\"Evaluating\", unit=\"batch\"):\n",
        "        input_ids, attention_masks, token_type_ids = batch\n",
        "\n",
        "        input_ids = input_ids.to(dtype=torch.long)\n",
        "        token_type_ids = token_type_ids.to(dtype=torch.long)\n",
        "        attention_masks = attention_masks.to(dtype=torch.long)\n",
        "        with torch.no_grad():\n",
        "            m = (model(input_ids,\n",
        "                       token_type_ids=token_type_ids,\n",
        "                       attention_mask=attention_masks)).logits\n",
        "            embs.append(torch.nn.Softmax()(m))\n",
        "    return embs"
      ],
      "metadata": {
        "id": "KNY76yTU71qA"
      },
      "execution_count": 9,
      "outputs": []
    },
    {
      "cell_type": "code",
      "source": [],
      "metadata": {
        "id": "mvFwFbDv-HY0"
      },
      "execution_count": null,
      "outputs": []
    },
    {
      "cell_type": "code",
      "source": [
        "df = pd.read_csv(\"/content/drive/MyDrive/train (2).csv\")"
      ],
      "metadata": {
        "id": "Ew--6Z8Z8sCT"
      },
      "execution_count": 10,
      "outputs": []
    },
    {
      "cell_type": "code",
      "source": [
        "all_comp = {}\n",
        "for i, row in df.iterrows():\n",
        "  all_comp[row[\"name_1\"]] = {\"emb\": None}\n",
        "  all_comp[row[\"name_2\"]] = {\"emb\": None}\n",
        "\n",
        "print(len(all_comp))\n",
        "json.dump(all_comp, open(\"/content/drive/MyDrive/all_comp.json\", \"w\"), indent=4)"
      ],
      "metadata": {
        "colab": {
          "base_uri": "https://localhost:8080/"
        },
        "id": "tMaxTg56Fg23",
        "outputId": "178b5d6d-c681-49f7-baca-70c6837c678f"
      },
      "execution_count": 15,
      "outputs": [
        {
          "output_type": "stream",
          "name": "stdout",
          "text": [
            "18022\n"
          ]
        }
      ]
    },
    {
      "cell_type": "code",
      "source": [
        "all_comp = json.load(open(\"/content/drive/MyDrive/all_comp.json\"))\n",
        "\n",
        "for sent, d in tqdm(all_comp.items(), total=len(all_comp)):\n",
        "  emm = model_cos.encode([sent])\n",
        "  all_comp[sent] = {\"emb\": emm[0]}\n",
        "\n",
        "print(len(all_comp))\n",
        "#json.dump(all_comp, open(\"/content/drive/MyDrive/all_comp.json\", \"w\"), indent=4)"
      ],
      "metadata": {
        "id": "5fNN8iV1HEaz",
        "colab": {
          "base_uri": "https://localhost:8080/"
        },
        "outputId": "c5e50d95-a876-4cb4-c436-c4d0d6a01eae"
      },
      "execution_count": 16,
      "outputs": [
        {
          "output_type": "stream",
          "name": "stderr",
          "text": [
            "100%|██████████| 18022/18022 [02:30<00:00, 120.07it/s]"
          ]
        },
        {
          "output_type": "stream",
          "name": "stdout",
          "text": [
            "18022\n"
          ]
        },
        {
          "output_type": "stream",
          "name": "stderr",
          "text": [
            "\n"
          ]
        }
      ]
    },
    {
      "cell_type": "code",
      "source": [
        "def mesure_cos(target_company, all_comp_emb, n=10):\n",
        "  target_emb = model_cos.encode(target_company)[0]\n",
        "  output = pd.DataFrame(columns=['company_name', 'sim_score'])\n",
        "\n",
        "  comp_labels = []\n",
        "  comp_emb = []\n",
        "  for comp, emd_dict in all_comp_emb.items():\n",
        "      comp_labels.append(comp)\n",
        "      comp_emb.append(emd_dict[\"emb\"])\n",
        "  \n",
        "  out = cosine_similarity([target_emb], comp_emb)\n",
        "  for i, score in enumerate(out[0]):\n",
        "    output.loc[len(output)] = [comp_labels[i], score]\n",
        "  \n",
        "  output = output.sort_values(by=['sim_score'], ascending=False)\n",
        "\n",
        "  print(output.head(10))\n",
        "\n",
        "  best = output.iloc[:n+1]\n",
        "  top_n = []\n",
        "  for i, b in best.iterrows():\n",
        "    top_n.append(b[\"company_name\"])\n",
        "\n",
        "  return top_n"
      ],
      "metadata": {
        "id": "txjCKf0-IV3q"
      },
      "execution_count": 36,
      "outputs": []
    },
    {
      "cell_type": "code",
      "source": [
        "# sentence_embeddings = model_cos.encode(sentences)\n",
        "# cosine_similarity(\n",
        "#     [sentence_embeddings[0]],\n",
        "#     sentence_embeddings[1:]\n",
        "# )"
      ],
      "metadata": {
        "id": "iuIrSPd-8r9G"
      },
      "execution_count": null,
      "outputs": []
    },
    {
      "cell_type": "code",
      "source": [
        "target_company = [\"API\"]"
      ],
      "metadata": {
        "id": "ZTysYKmr8r3h"
      },
      "execution_count": 17,
      "outputs": []
    },
    {
      "cell_type": "code",
      "source": [
        "all_comp = json.load(open(\"/content/drive/MyDrive/all_comp.json\")"
      ],
      "metadata": {
        "id": "VP63UsmcuSSL"
      },
      "execution_count": null,
      "outputs": []
    },
    {
      "cell_type": "code",
      "source": [
        "output = mesure_cos(target_company, all_comp)\n"
      ],
      "metadata": {
        "id": "aftGB_aq8rvD",
        "colab": {
          "base_uri": "https://localhost:8080/"
        },
        "outputId": "8cb3a6f9-e4aa-449c-8ef6-13fb2b132426"
      },
      "execution_count": 37,
      "outputs": [
        {
          "output_type": "stream",
          "name": "stdout",
          "text": [
            "                                           company_name  sim_score\n",
            "5651                                                API   1.000000\n",
            "4996                                        Trinseo API   0.811521\n",
            "4865                                             A.P.I.   0.793274\n",
            "2343      A.P.I. Applicazioni Plastiche Industriali SPA   0.689926\n",
            "6341                                    ASIA PHARM PACK   0.670014\n",
            "16168                                   SIA\"INTER SPED\"   0.665998\n",
            "9906                           Active Print & Promotion   0.663481\n",
            "765                                                 APS   0.659733\n",
            "6574   A.P.I. APPLICAZIONI PLASTICHE INDUSTRIALI S.P.A.   0.656669\n",
            "6380                                Performance Machine   0.641626\n"
          ]
        }
      ]
    },
    {
      "cell_type": "code",
      "source": [
        "output"
      ],
      "metadata": {
        "colab": {
          "base_uri": "https://localhost:8080/"
        },
        "id": "XCgnZHtuu9bj",
        "outputId": "62f6a3d2-43fa-41a9-80bd-1df77f3a201a"
      },
      "execution_count": 38,
      "outputs": [
        {
          "output_type": "execute_result",
          "data": {
            "text/plain": [
              "['API',\n",
              " 'Trinseo API',\n",
              " 'A.P.I.',\n",
              " 'A.P.I. Applicazioni Plastiche Industriali SPA',\n",
              " 'ASIA PHARM PACK',\n",
              " 'SIA\"INTER SPED\"',\n",
              " 'Active Print & Promotion',\n",
              " 'APS',\n",
              " 'A.P.I. APPLICAZIONI PLASTICHE INDUSTRIALI S.P.A.',\n",
              " 'Performance Machine',\n",
              " 'Active Screw & Fastener']"
            ]
          },
          "metadata": {},
          "execution_count": 38
        }
      ]
    },
    {
      "cell_type": "code",
      "source": [
        "target_company = [target_company[0] for i in range(len(output))]"
      ],
      "metadata": {
        "id": "D76CI9M_wcSW"
      },
      "execution_count": 41,
      "outputs": []
    },
    {
      "cell_type": "code",
      "source": [
        "df = pd.DataFrame({'query': target_company,\n",
        "                   'name': output})"
      ],
      "metadata": {
        "id": "XMF_xzWn8rEO"
      },
      "execution_count": 42,
      "outputs": []
    },
    {
      "cell_type": "code",
      "source": [
        "test = convert_to_dataset(df)\n",
        "test_dataloader = DataLoader(test, sampler=SequentialSampler(test), batch_size=1)\n",
        "emn = infer(test_dataloader, model)\n",
        "ems = [i.detach().cpu().numpy() for i in emn]\n",
        "em = [(ems[i][0][1]) for i, k in enumerate(ems)]\n",
        "df['is_duplicate_score'] = pd.Series(em)\n",
        "df = df.sort_values('is_duplicate_score', ascending=False)\n",
        "print(df)"
      ],
      "metadata": {
        "id": "-r5pOUVt716X",
        "colab": {
          "base_uri": "https://localhost:8080/"
        },
        "outputId": "ca724dec-1355-41f5-8ecc-28e5194420c3"
      },
      "execution_count": 44,
      "outputs": [
        {
          "output_type": "stream",
          "name": "stderr",
          "text": [
            "  0%|          | 0/11 [00:00<?, ?it/s]/usr/local/lib/python3.7/dist-packages/transformers/tokenization_utils_base.py:2308: FutureWarning: The `pad_to_max_length` argument is deprecated and will be removed in a future version, use `padding=True` or `padding='longest'` to pad to the longest sequence in the batch, or use `padding='max_length'` to pad to a max length. In this case, you can give a specific length with `max_length` (e.g. `max_length=45`) or leave max_length to None to pad to the maximal input size of the model (e.g. 512 for Bert).\n",
            "  FutureWarning,\n",
            "100%|██████████| 11/11 [00:00<00:00, 1247.36it/s]\n",
            "Evaluating:   0%|          | 0/11 [00:00<?, ?batch/s]/usr/local/lib/python3.7/dist-packages/ipykernel_launcher.py:14: UserWarning: Implicit dimension choice for softmax has been deprecated. Change the call to include dim=X as an argument.\n",
            "  \n",
            "Evaluating: 100%|██████████| 11/11 [00:13<00:00,  1.22s/batch]"
          ]
        },
        {
          "output_type": "stream",
          "name": "stdout",
          "text": [
            "   query                                              name  is_duplicate_score\n",
            "1    API                                       Trinseo API            0.999756\n",
            "0    API                                               API            0.999727\n",
            "3    API     A.P.I. Applicazioni Plastiche Industriali SPA            0.995598\n",
            "8    API  A.P.I. APPLICAZIONI PLASTICHE INDUSTRIALI S.P.A.            0.994212\n",
            "2    API                                            A.P.I.            0.992988\n",
            "5    API                                   SIA\"INTER SPED\"            0.038426\n",
            "10   API                           Active Screw & Fastener            0.000190\n",
            "7    API                                               APS            0.000081\n",
            "9    API                               Performance Machine            0.000077\n",
            "6    API                          Active Print & Promotion            0.000045\n",
            "4    API                                   ASIA PHARM PACK            0.000026\n"
          ]
        },
        {
          "output_type": "stream",
          "name": "stderr",
          "text": [
            "\n"
          ]
        }
      ]
    },
    {
      "cell_type": "code",
      "source": [],
      "metadata": {
        "id": "dJwru4gC8iVH"
      },
      "execution_count": null,
      "outputs": []
    }
  ]
}